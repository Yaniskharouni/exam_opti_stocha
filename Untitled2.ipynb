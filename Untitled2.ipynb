{
  "nbformat": 4,
  "nbformat_minor": 0,
  "metadata": {
    "colab": {
      "name": "Untitled2.ipynb",
      "provenance": []
    },
    "kernelspec": {
      "name": "python3",
      "display_name": "Python 3"
    },
    "language_info": {
      "name": "python"
    }
  },
  "cells": [
    {
      "cell_type": "code",
      "execution_count": 252,
      "metadata": {
        "id": "8-RV83S2JCOQ"
      },
      "outputs": [],
      "source": [
        "import numpy as np\n",
        "\n",
        "lx=[]\n",
        "ly=[]\n",
        "\n",
        "for i in range(-100,101) : \n",
        "  lx.append(i)\n",
        "  ly.append(i)\n",
        "\n"
      ]
    },
    {
      "cell_type": "code",
      "source": [
        "#fonction rosenbrock\n",
        "def rosenbrock(x,y) :\n",
        "  r=np.sum((1 - x)**2 + 100 * (y - x**2)**2)\n",
        "  return r"
      ],
      "metadata": {
        "id": "u2U5suZpOlxq"
      },
      "execution_count": 253,
      "outputs": []
    },
    {
      "cell_type": "code",
      "source": [
        "print(lx)\n",
        "print(ly)"
      ],
      "metadata": {
        "colab": {
          "base_uri": "https://localhost:8080/"
        },
        "id": "Mx1oFr-UJmwL",
        "outputId": "03e5aef3-9c43-4cb0-8e34-c505ac42dcbc"
      },
      "execution_count": 254,
      "outputs": [
        {
          "output_type": "stream",
          "name": "stdout",
          "text": [
            "[-100, -99, -98, -97, -96, -95, -94, -93, -92, -91, -90, -89, -88, -87, -86, -85, -84, -83, -82, -81, -80, -79, -78, -77, -76, -75, -74, -73, -72, -71, -70, -69, -68, -67, -66, -65, -64, -63, -62, -61, -60, -59, -58, -57, -56, -55, -54, -53, -52, -51, -50, -49, -48, -47, -46, -45, -44, -43, -42, -41, -40, -39, -38, -37, -36, -35, -34, -33, -32, -31, -30, -29, -28, -27, -26, -25, -24, -23, -22, -21, -20, -19, -18, -17, -16, -15, -14, -13, -12, -11, -10, -9, -8, -7, -6, -5, -4, -3, -2, -1, 0, 1, 2, 3, 4, 5, 6, 7, 8, 9, 10, 11, 12, 13, 14, 15, 16, 17, 18, 19, 20, 21, 22, 23, 24, 25, 26, 27, 28, 29, 30, 31, 32, 33, 34, 35, 36, 37, 38, 39, 40, 41, 42, 43, 44, 45, 46, 47, 48, 49, 50, 51, 52, 53, 54, 55, 56, 57, 58, 59, 60, 61, 62, 63, 64, 65, 66, 67, 68, 69, 70, 71, 72, 73, 74, 75, 76, 77, 78, 79, 80, 81, 82, 83, 84, 85, 86, 87, 88, 89, 90, 91, 92, 93, 94, 95, 96, 97, 98, 99, 100]\n",
            "[-100, -99, -98, -97, -96, -95, -94, -93, -92, -91, -90, -89, -88, -87, -86, -85, -84, -83, -82, -81, -80, -79, -78, -77, -76, -75, -74, -73, -72, -71, -70, -69, -68, -67, -66, -65, -64, -63, -62, -61, -60, -59, -58, -57, -56, -55, -54, -53, -52, -51, -50, -49, -48, -47, -46, -45, -44, -43, -42, -41, -40, -39, -38, -37, -36, -35, -34, -33, -32, -31, -30, -29, -28, -27, -26, -25, -24, -23, -22, -21, -20, -19, -18, -17, -16, -15, -14, -13, -12, -11, -10, -9, -8, -7, -6, -5, -4, -3, -2, -1, 0, 1, 2, 3, 4, 5, 6, 7, 8, 9, 10, 11, 12, 13, 14, 15, 16, 17, 18, 19, 20, 21, 22, 23, 24, 25, 26, 27, 28, 29, 30, 31, 32, 33, 34, 35, 36, 37, 38, 39, 40, 41, 42, 43, 44, 45, 46, 47, 48, 49, 50, 51, 52, 53, 54, 55, 56, 57, 58, 59, 60, 61, 62, 63, 64, 65, 66, 67, 68, 69, 70, 71, 72, 73, 74, 75, 76, 77, 78, 79, 80, 81, 82, 83, 84, 85, 86, 87, 88, 89, 90, 91, 92, 93, 94, 95, 96, 97, 98, 99, 100]\n"
          ]
        }
      ]
    },
    {
      "cell_type": "code",
      "source": [
        "def SGD(_lx,_ly,N,lr,batchsize,epochs) :\n",
        "  \n",
        "  #prendres a et b initiaux aleatirement\n",
        "  a = np.random.randint(-100, 100);\n",
        "  b = np.random.randint(-100, 100);\n",
        "\n",
        "  lx = np.array(_lx)\n",
        "  ly = np.array(_ly)\n",
        "\n",
        "\n",
        "  #prendre les données du batch aleatoirement du domaine de definition\n",
        "  #pour notre exemple sans mini batch le batchsize est donc égal à len(lx)\n",
        "\n",
        "  #indexes = np.random.randint(-100, 100, batchsize) # random sample\n",
        "  #lx = np.take(np.array(_lx), batchsize)\n",
        "  #ly = np.take(np.array(_ly), batchsize)\n",
        "\n",
        "  \n",
        "\n",
        "  for i in  range(epochs) :\n",
        "    a = a - lr * (((-800*(lx*lx*lx)) + (2*lx) + (-400*lx*ly) - 2).sum() )\n",
        "    b = b - lr * (((200*ly) - (200*(lx*lx))).sum() )\n",
        "\n",
        "\n",
        "  return a,b"
      ],
      "metadata": {
        "id": "6D4UztYUJt8v"
      },
      "execution_count": 255,
      "outputs": []
    },
    {
      "cell_type": "code",
      "source": [
        "#batchsize = len(lx) cad toutes les données dont on dispose\n",
        "SGD(lx,ly,N=2,lr=1e10-9,batchsize=len(lx),epochs=3000)"
      ],
      "metadata": {
        "colab": {
          "base_uri": "https://localhost:8080/"
        },
        "id": "2AL0ASiLLR4k",
        "outputId": "52df8ca9-93f8-441b-e3fb-fe8694e090da"
      },
      "execution_count": 256,
      "outputs": [
        {
          "output_type": "execute_result",
          "data": {
            "text/plain": [
              "(8.120412052691832e+21, 4.0601999963456416e+21)"
            ]
          },
          "metadata": {},
          "execution_count": 256
        }
      ]
    },
    {
      "cell_type": "code",
      "source": [
        "def gradr(x,y) :\n",
        "\n",
        "  gradx = (-800*(x*x*x)) + (2*x) + (-400*x*y) - 2\n",
        "  grady = (200*y) - (200*(x*x))\n",
        "\n",
        "  return gradx,grady"
      ],
      "metadata": {
        "id": "ZzPc5XHwVRLN"
      },
      "execution_count": 257,
      "outputs": []
    },
    {
      "cell_type": "code",
      "source": [
        "def SGD(_lx,_ly,N,lr,batchsize,epochs) :\n",
        "  \n",
        "  #prendres a et b initiaux aleatirement\n",
        "  #a = np.random.randint(-100, 100);\n",
        "  #b = np.random.randint(-100, 100);\n",
        "\n",
        "  a = -10\n",
        "  b = 10\n",
        "\n",
        "  lx = np.array(_lx)\n",
        "  ly = np.array(_ly)\n",
        "\n",
        "\n",
        "  #prendre les données du batch aleatoirement du domaine de definition\n",
        "\n",
        "  indexes = np.random.randint(-100, 100, batchsize) \n",
        "  lx = np.take(np.array(_lx), batchsize)\n",
        "  ly = np.take(np.array(_ly), batchsize)\n",
        "\n",
        "  \n",
        "\n",
        "  for i in  range(epochs) :\n",
        "\n",
        "    for j in range(batchsize) :\n",
        "      gx,gy = gradr(lx,ly)\n",
        "      a = a - (lr * (gx.sum() ))/ sqrt(a)\n",
        "      b = b - (lr * (gy.sum() ))/ sqrt(b)\n",
        "\n",
        "\n",
        "  return a,b"
      ],
      "metadata": {
        "id": "wv2Scbp0PJik"
      },
      "execution_count": 258,
      "outputs": []
    },
    {
      "cell_type": "code",
      "source": [
        "SGD(lx,ly,N=2,lr=1e-9,batchsize=10,epochs=80)"
      ],
      "metadata": {
        "colab": {
          "base_uri": "https://localhost:8080/"
        },
        "id": "4q7c0eMSO_cE",
        "outputId": "cdbcbc1b-681f-417e-8c62-b0846b63c637"
      },
      "execution_count": 259,
      "outputs": [
        {
          "output_type": "execute_result",
          "data": {
            "text/plain": [
              "(-473.9678544000064, 11.310399999999845)"
            ]
          },
          "metadata": {},
          "execution_count": 259
        }
      ]
    }
  ]
}